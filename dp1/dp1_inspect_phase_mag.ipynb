{
 "cells": [
  {
   "cell_type": "markdown",
   "id": "edb3750f-c9d8-4aa8-b1b4-9970ee31c6f3",
   "metadata": {},
   "source": [
    "# Inspect the phase angles and reduced magnitudes for DP1 objects\n",
    "Author: James E. Robinson\n",
    "\n",
    "Query all objects and observations in DP1 and generate summary statistics for the phase angles and reduced magnitudes: range, min, max, mean.\n",
    "This should give an indication of objects that may have lightcurve amplitude variations or interesting colours."
   ]
  },
  {
   "cell_type": "code",
   "execution_count": 1,
   "id": "83a0c1e0-cf54-414d-ac53-a15dea0acc57",
   "metadata": {
    "execution": {
     "iopub.execute_input": "2025-07-02T13:20:10.634130Z",
     "iopub.status.busy": "2025-07-02T13:20:10.633932Z",
     "iopub.status.idle": "2025-07-02T13:20:11.529979Z",
     "shell.execute_reply": "2025-07-02T13:20:11.529451Z",
     "shell.execute_reply.started": "2025-07-02T13:20:10.634111Z"
    }
   },
   "outputs": [],
   "source": [
    "import numpy as np\n",
    "import pandas as pd\n",
    "import matplotlib.pyplot as plt\n",
    "import matplotlib.gridspec as gridspec\n",
    "import astropy.units as u\n",
    "\n",
    "from lsst.rsp import get_tap_service"
   ]
  },
  {
   "cell_type": "code",
   "execution_count": 2,
   "id": "a1c3cd7c-9f03-4f44-b17e-70a41e1de088",
   "metadata": {
    "execution": {
     "iopub.execute_input": "2025-07-02T13:20:11.530895Z",
     "iopub.status.busy": "2025-07-02T13:20:11.530539Z",
     "iopub.status.idle": "2025-07-02T13:20:11.566386Z",
     "shell.execute_reply": "2025-07-02T13:20:11.565858Z",
     "shell.execute_reply.started": "2025-07-02T13:20:11.530876Z"
    }
   },
   "outputs": [],
   "source": [
    "service = get_tap_service(\"tap\")\n",
    "assert service is not None"
   ]
  },
  {
   "cell_type": "markdown",
   "id": "77d1e98b-e742-4a6a-965d-bb924b3ce66e",
   "metadata": {},
   "source": [
    "# Query for all properties from the SSObject and and MPCORB tables"
   ]
  },
  {
   "cell_type": "code",
   "execution_count": 3,
   "id": "190b7813-239c-4f8b-9b2f-a5b30681b207",
   "metadata": {
    "execution": {
     "iopub.execute_input": "2025-07-02T13:20:11.567306Z",
     "iopub.status.busy": "2025-07-02T13:20:11.567020Z",
     "iopub.status.idle": "2025-07-02T13:20:11.569714Z",
     "shell.execute_reply": "2025-07-02T13:20:11.569282Z",
     "shell.execute_reply.started": "2025-07-02T13:20:11.567285Z"
    }
   },
   "outputs": [],
   "source": [
    "query = \"\"\"SELECT * \n",
    "            FROM\n",
    "                dp1.MPCORB as mpc\n",
    "                INNER JOIN dp1.SSObject as sso\n",
    "                ON mpc.ssObjectId = sso.ssObjectId\n",
    "                \"\"\""
   ]
  },
  {
   "cell_type": "code",
   "execution_count": 4,
   "id": "a1310e6b-a0cc-453b-9b18-bb091ca09340",
   "metadata": {
    "execution": {
     "iopub.execute_input": "2025-07-02T13:20:11.570628Z",
     "iopub.status.busy": "2025-07-02T13:20:11.570248Z",
     "iopub.status.idle": "2025-07-02T13:20:14.832800Z",
     "shell.execute_reply": "2025-07-02T13:20:14.832313Z",
     "shell.execute_reply.started": "2025-07-02T13:20:11.570611Z"
    }
   },
   "outputs": [
    {
     "name": "stdout",
     "output_type": "stream",
     "text": [
      "Job phase is COMPLETED\n"
     ]
    }
   ],
   "source": [
    "job = service.submit_job(query)\n",
    "job.run()\n",
    "job.wait(phases=['COMPLETED', 'ERROR'])\n",
    "print('Job phase is', job.phase)\n",
    "if job.phase == 'ERROR':\n",
    "    job.raise_if_error()"
   ]
  },
  {
   "cell_type": "code",
   "execution_count": 5,
   "id": "6ebd0b62-5b42-44d1-93b2-1d3b4ee433ec",
   "metadata": {
    "execution": {
     "iopub.execute_input": "2025-07-02T13:20:14.833627Z",
     "iopub.status.busy": "2025-07-02T13:20:14.833434Z",
     "iopub.status.idle": "2025-07-02T13:20:14.977434Z",
     "shell.execute_reply": "2025-07-02T13:20:14.976946Z",
     "shell.execute_reply.started": "2025-07-02T13:20:14.833610Z"
    }
   },
   "outputs": [
    {
     "name": "stdout",
     "output_type": "stream",
     "text": [
      "431\n"
     ]
    }
   ],
   "source": [
    "assert job.phase == 'COMPLETED'\n",
    "result = job.fetch_result()\n",
    "print(len(result))"
   ]
  },
  {
   "cell_type": "code",
   "execution_count": 6,
   "id": "c4ea3ea4-e1d4-45d8-8551-dd5322c2500b",
   "metadata": {
    "execution": {
     "iopub.execute_input": "2025-07-02T13:20:14.978199Z",
     "iopub.status.busy": "2025-07-02T13:20:14.978010Z",
     "iopub.status.idle": "2025-07-02T13:20:14.991390Z",
     "shell.execute_reply": "2025-07-02T13:20:14.990902Z",
     "shell.execute_reply.started": "2025-07-02T13:20:14.978183Z"
    }
   },
   "outputs": [],
   "source": [
    "df_obj = pd.DataFrame(result)"
   ]
  },
  {
   "cell_type": "code",
   "execution_count": 7,
   "id": "70a4b84c-b313-4223-b464-cdd99918bce9",
   "metadata": {
    "execution": {
     "iopub.execute_input": "2025-07-02T13:20:14.992206Z",
     "iopub.status.busy": "2025-07-02T13:20:14.992013Z",
     "iopub.status.idle": "2025-07-02T13:20:15.012311Z",
     "shell.execute_reply": "2025-07-02T13:20:15.011818Z",
     "shell.execute_reply.started": "2025-07-02T13:20:14.992189Z"
    }
   },
   "outputs": [],
   "source": [
    "# calculate the semimajor axis\n",
    "df_obj[\"a\"] = df_obj[\"q\"] / (1.0 - df_obj[\"e\"])"
   ]
  },
  {
   "cell_type": "code",
   "execution_count": 8,
   "id": "e4aaa3cf-a2e1-4013-a370-e64ac490da07",
   "metadata": {
    "execution": {
     "iopub.execute_input": "2025-07-02T13:20:15.013131Z",
     "iopub.status.busy": "2025-07-02T13:20:15.012837Z",
     "iopub.status.idle": "2025-07-02T13:20:15.033168Z",
     "shell.execute_reply": "2025-07-02T13:20:15.032717Z",
     "shell.execute_reply.started": "2025-07-02T13:20:15.013107Z"
    }
   },
   "outputs": [],
   "source": [
    "# df_obj"
   ]
  },
  {
   "cell_type": "markdown",
   "id": "1a9a59e7-1645-4228-8031-6431978afdc8",
   "metadata": {},
   "source": [
    "# Query for all observations in the DiaSource and SSSource tables"
   ]
  },
  {
   "cell_type": "code",
   "execution_count": 9,
   "id": "3d305934-757b-49d4-ab25-06f4fc5e99ff",
   "metadata": {
    "execution": {
     "iopub.execute_input": "2025-07-02T13:20:15.033904Z",
     "iopub.status.busy": "2025-07-02T13:20:15.033698Z",
     "iopub.status.idle": "2025-07-02T13:20:15.053791Z",
     "shell.execute_reply": "2025-07-02T13:20:15.053319Z",
     "shell.execute_reply.started": "2025-07-02T13:20:15.033885Z"
    }
   },
   "outputs": [],
   "source": [
    "query = \"\"\"\n",
    "SELECT *\n",
    "FROM\n",
    "    dp1.DiaSource as dia\n",
    "INNER JOIN\n",
    "    dp1.SSSource as sss\n",
    "ON\n",
    "    dia.diaSourceId = sss.diaSourceId\n",
    "\"\"\""
   ]
  },
  {
   "cell_type": "code",
   "execution_count": null,
   "id": "3e268883-7d33-4dff-ac9e-a88a012c1d26",
   "metadata": {
    "execution": {
     "iopub.execute_input": "2025-07-02T13:20:15.054617Z",
     "iopub.status.busy": "2025-07-02T13:20:15.054346Z"
    }
   },
   "outputs": [],
   "source": [
    "job = service.submit_job(query)\n",
    "job.run()\n",
    "job.wait(phases=['COMPLETED', 'ERROR'])\n",
    "print('Job phase is', job.phase)\n",
    "if job.phase == 'ERROR':\n",
    "    job.raise_if_error()"
   ]
  },
  {
   "cell_type": "code",
   "execution_count": null,
   "id": "9ad14a6b-a21c-4095-8329-f79721a1d1b2",
   "metadata": {},
   "outputs": [],
   "source": [
    "assert job.phase == 'COMPLETED'\n",
    "result = job.fetch_result()\n",
    "print(len(result))"
   ]
  },
  {
   "cell_type": "code",
   "execution_count": null,
   "id": "ae2ceea2-9378-43f4-9190-790c2cb26078",
   "metadata": {},
   "outputs": [],
   "source": [
    "df_obs = pd.DataFrame(result)"
   ]
  },
  {
   "cell_type": "code",
   "execution_count": null,
   "id": "96d98788-92f4-44db-beeb-660a4de6af6c",
   "metadata": {},
   "outputs": [],
   "source": [
    "# df_obs"
   ]
  },
  {
   "cell_type": "markdown",
   "id": "7876b766-7474-45dd-9a29-a7cfce65de18",
   "metadata": {},
   "source": [
    "# Calculate the magnitudes from flux\n",
    "See \"Using astropy for unit conversion\" https://community.lsst.org/t/photocalib-has-replaced-calib-welcoming-our-nanojansky-overlords/3648"
   ]
  },
  {
   "cell_type": "code",
   "execution_count": null,
   "id": "3e415caa-ae4d-4a5f-8128-63e85de4ba8f",
   "metadata": {},
   "outputs": [],
   "source": [
    "# Flux in nanoJanskys to AB magnitudes - NB negative fluxes will give nans\n",
    "df_obs[\"apABmag\"] = (np.array(df_obs[\"apFlux\"]) * u.nJy).to(u.ABmag).value\n",
    "df_obs[\"psfABmag\"] = (np.array(df_obs[\"psfFlux\"]) * u.nJy).to(u.ABmag).value\n",
    "df_obs[\"trailABmag\"] = (np.array(df_obs[\"trailFlux\"]) * u.nJy).to(u.ABmag).value\n",
    "\n",
    "# Calculate the reduced magnitude using the distances of each observation\n",
    "thdist = df_obs['topocentricDist']*df_obs['heliocentricDist']\n",
    "df_obs[\"red_apABmag\"] = df_obs['apABmag'] - 5.0*np.log10(thdist)\n",
    "df_obs[\"red_psfABmag\"] = df_obs['psfABmag'] - 5.0*np.log10(thdist)\n",
    "df_obs[\"red_trailABmag\"] = df_obs['trailABmag'] - 5.0*np.log10(thdist)"
   ]
  },
  {
   "cell_type": "code",
   "execution_count": null,
   "id": "56fd8733-de61-44ac-ba23-bb9d4cf74f09",
   "metadata": {},
   "outputs": [],
   "source": [
    "# df_obs"
   ]
  },
  {
   "cell_type": "markdown",
   "id": "f55dc941-9e87-41de-88ae-e74b352f1142",
   "metadata": {},
   "source": [
    "# Group all detections by ssObjectId\n",
    "This will allow us to see how the overall phase angle coverage and reduced magnitude changes per object (across all bands)"
   ]
  },
  {
   "cell_type": "code",
   "execution_count": null,
   "id": "d48f7ef6-0f48-4ff9-8973-ca3c17e4e65e",
   "metadata": {},
   "outputs": [],
   "source": [
    "# gb_obs = df_obs.groupby(\"ssObjectId\")\n",
    "gb_obs = df_obs.dropna(subset = [\"red_apABmag\",\"red_psfABmag\"]).groupby(\"ssObjectId\") # we need to drop nan mags otherwise the summary stat for np.ptp will also be nan"
   ]
  },
  {
   "cell_type": "code",
   "execution_count": null,
   "id": "9b878c63-51cd-4cbb-858c-4cc4ac6a5060",
   "metadata": {},
   "outputs": [],
   "source": [
    "# range\n",
    "df_ptp = gb_obs[['red_apABmag',\"red_psfABmag\",\"phaseAngle\"]].agg(np.ptp).reset_index()\n",
    "df_ptp = df_ptp.rename({'red_apABmag':\"range_red_apABmag\",\n",
    "                        'red_psfABmag':\"range_red_psfABmag\",\n",
    "                        \"phaseAngle\":\"range_phaseAngle\"}, axis = 1)\n",
    "df_ptp"
   ]
  },
  {
   "cell_type": "code",
   "execution_count": null,
   "id": "4c762c0f-63fb-4606-aa4e-378e5d3c50da",
   "metadata": {},
   "outputs": [],
   "source": [
    "# min\n",
    "df_min = gb_obs[[\"red_apABmag\",\"red_psfABmag\",\"phaseAngle\"]].min().reset_index()\n",
    "df_min = df_min.rename({'red_apABmag':\"min_red_apABmag\",\n",
    "                        'red_psfABmag':\"min_red_psfABmag\",\n",
    "                        \"phaseAngle\":\"min_phaseAngle\"}, axis = 1)\n",
    "df_min"
   ]
  },
  {
   "cell_type": "code",
   "execution_count": null,
   "id": "4a72a5a2-47ae-4e4b-8508-32a53b9d5da4",
   "metadata": {},
   "outputs": [],
   "source": [
    "# max\n",
    "df_max = gb_obs[[\"red_apABmag\",\"red_psfABmag\",\"phaseAngle\"]].max().reset_index()\n",
    "df_max = df_max.rename({'red_apABmag':\"max_red_apABmag\",\n",
    "                        'red_psfABmag':\"max_red_psfABmag\",\n",
    "                        \"phaseAngle\":\"max_phaseAngle\"}, axis = 1)\n",
    "df_max"
   ]
  },
  {
   "cell_type": "code",
   "execution_count": null,
   "id": "c2499910-d871-41cc-9383-23036813d0c9",
   "metadata": {},
   "outputs": [],
   "source": [
    "# mean\n",
    "df_mean = gb_obs[[\"red_apABmag\",\"red_psfABmag\",\"phaseAngle\"]].mean().reset_index()\n",
    "df_mean = df_mean.rename({'red_apABmag':\"mean_red_apABmag\",\n",
    "                          'red_psfABmag':\"mean_red_psfABmag\",\n",
    "                        \"phaseAngle\":\"mean_phaseAngle\"}, axis = 1)"
   ]
  },
  {
   "cell_type": "code",
   "execution_count": null,
   "id": "e96ce6b7-29ee-4e18-8bcc-1050488a8c0c",
   "metadata": {},
   "outputs": [],
   "source": [
    "# Overall summary dataframe\n",
    "df_mag = df_ptp.copy()\n",
    "df_mag = df_mag.merge(df_min, on = \"ssObjectId\")\n",
    "df_mag = df_mag.merge(df_max, on = \"ssObjectId\")\n",
    "df_mag = df_mag.merge(df_mean, on = \"ssObjectId\")\n",
    "df_mag = df_mag.merge(df_obj[[\"ssObjectId\",\"a\"]], on = \"ssObjectId\")\n",
    "\n",
    "df_mag"
   ]
  },
  {
   "cell_type": "code",
   "execution_count": null,
   "id": "25b3a41b-3b32-4613-bdfc-287b4d1b9d92",
   "metadata": {},
   "outputs": [],
   "source": [
    "df_mag.sort_values(\"range_red_apABmag\")"
   ]
  },
  {
   "cell_type": "code",
   "execution_count": null,
   "id": "da764710-d55d-4df0-8f92-a5277d9f632e",
   "metadata": {},
   "outputs": [],
   "source": [
    "df_plot = df_mag\n",
    "\n",
    "for x_plot in [\"min_phaseAngle\",\"max_phaseAngle\",\"range_phaseAngle\"]:\n",
    "               \n",
    "    fig = plt.figure()\n",
    "    gs = gridspec.GridSpec(1, 1)\n",
    "    ax1 = plt.subplot(gs[0,0])\n",
    "    \n",
    "    ax1.hist(df_plot[x_plot])\n",
    "\n",
    "    med_x = np.median(df_plot[x_plot])\n",
    "    print(\"median({}) = {}\".format(x_plot,med_x))\n",
    "    ax1.axvline(med_x, c= \"r\", label = \"{:.2f}\".format(med_x))\n",
    "        \n",
    "    ax1.legend()\n",
    "    ax1.set_xlabel(x_plot)\n",
    "    ax1.set_ylabel(\"number\")\n",
    "    \n",
    "    plt.show()"
   ]
  },
  {
   "cell_type": "code",
   "execution_count": null,
   "id": "7c876265-13ab-448d-851c-ee43c537218d",
   "metadata": {},
   "outputs": [],
   "source": [
    "# plot the maximum observed phase angle for each object as a function of semimajor axis\n",
    "x_plot = \"a\"\n",
    "y_plot = \"max_phaseAngle\"\n",
    "c_plot = \"range_phaseAngle\"\n",
    "df_plot = df_mag.sort_values(c_plot)\n",
    "\n",
    "fig = plt.figure()\n",
    "gs = gridspec.GridSpec(1, 1)\n",
    "ax1 = plt.subplot(gs[0,0])\n",
    "\n",
    "s1 = ax1.scatter(df_plot[x_plot],df_plot[y_plot], c = df_plot[c_plot])\n",
    "cbar1 = plt.colorbar(s1)\n",
    "\n",
    "# Maximum possible phase angle as a function of semimajor axis (for circular orbit)\n",
    "# _x = np.linspace(np.amin(df_plot[x_plot]),np.amax(df_plot[x_plot]))\n",
    "# ax1.plot(_x, np.arcsin(1.0/_x), c = \"r\")\n",
    "\n",
    "ax1.set_xlabel(x_plot)\n",
    "ax1.set_ylabel(y_plot)\n",
    "cbar1.set_label(c_plot)\n",
    "\n",
    "plt.show()\n"
   ]
  },
  {
   "cell_type": "code",
   "execution_count": null,
   "id": "74b948ae-04b2-487c-b813-0bedd2949efe",
   "metadata": {},
   "outputs": [],
   "source": [
    "# plot the object with the largest phase curve coverage\n",
    "ssobjid = df_mag.iloc[np.argmax(df_mag[\"range_phaseAngle\"])][\"ssObjectId\"]"
   ]
  },
  {
   "cell_type": "code",
   "execution_count": null,
   "id": "79315aa5-3146-4db0-ba74-5d3fe26fb1fb",
   "metadata": {},
   "outputs": [],
   "source": [
    "# Plot the phase curve\n",
    "mpc_des = df_obj[df_obj[\"ssObjectId\"]==ssobjid].iloc[0][\"mpcDesignation\"]\n",
    "print(ssobjid,mpc_des)\n",
    "\n",
    "x_plot = \"phaseAngle\"\n",
    "y_plot = \"red_apABmag\"\n",
    "df_plot = df_obs[df_obs[\"ssObjectId\"] == ssobjid].sort_values(x_plot)\n",
    "\n",
    "fig = plt.figure()\n",
    "gs = gridspec.GridSpec(1, 1)\n",
    "ax1 = plt.subplot(gs[0,0])\n",
    "\n",
    "for i,filt in enumerate(np.unique(df_plot[\"band\"])):\n",
    "    _df_plot = df_plot[df_plot[\"band\"]==filt]\n",
    "    print(filt,len(_df_plot))\n",
    "    ax1.scatter(_df_plot[x_plot],_df_plot[y_plot],\n",
    "                edgecolor = \"C{}\".format(i),\n",
    "                facecolor = \"none\",\n",
    "                label = filt)\n",
    "    ax1.plot(_df_plot[x_plot],_df_plot[y_plot],\n",
    "             c = \"C{}\".format(i),)\n",
    "\n",
    "ax1.legend()\n",
    "ax1.set_xlabel(x_plot)\n",
    "ax1.set_ylabel(y_plot)\n",
    "ax1.invert_yaxis()\n",
    "\n",
    "plt.title(\"{}\\n{}\".format(ssobjid,mpc_des))\n",
    "\n",
    "plt.show()\n"
   ]
  },
  {
   "cell_type": "code",
   "execution_count": null,
   "id": "751223bb-fec6-423a-97fb-283713b7b100",
   "metadata": {},
   "outputs": [],
   "source": [
    "# Look at the lightcurve (note that this is very similar to the phase curve given the small observing baseline)\n",
    "mpc_des = df_obj[df_obj[\"ssObjectId\"]==ssobjid].iloc[0][\"mpcDesignation\"]\n",
    "print(ssobjid,mpc_des)\n",
    "\n",
    "x_plot = \"midpointMjdTai\"\n",
    "y_plot = \"red_apABmag\"\n",
    "df_plot = df_obs[df_obs[\"ssObjectId\"] == ssobjid].sort_values(x_plot)\n",
    "\n",
    "fig = plt.figure()\n",
    "gs = gridspec.GridSpec(1, 1)\n",
    "ax1 = plt.subplot(gs[0,0])\n",
    "\n",
    "for i,filt in enumerate(np.unique(df_plot[\"band\"])):\n",
    "    _df_plot = df_plot[df_plot[\"band\"]==filt]\n",
    "    print(filt,len(_df_plot))\n",
    "    ax1.scatter(_df_plot[x_plot],_df_plot[y_plot],\n",
    "                edgecolor = \"C{}\".format(i),\n",
    "                facecolor = \"none\",\n",
    "                label = filt)\n",
    "    ax1.plot(_df_plot[x_plot],_df_plot[y_plot],\n",
    "             c = \"C{}\".format(i),)\n",
    "\n",
    "ax1.legend()\n",
    "ax1.set_xlabel(x_plot)\n",
    "ax1.set_ylabel(y_plot)\n",
    "ax1.invert_yaxis()\n",
    "\n",
    "plt.title(\"{}\\n{}\".format(ssobjid,mpc_des))\n",
    "\n",
    "plt.show()\n"
   ]
  },
  {
   "cell_type": "markdown",
   "id": "d18454f3-bb7e-4e0b-b740-574d9f96a194",
   "metadata": {},
   "source": [
    "# Unusual photometry?\n",
    "ssObjectId = 21163611662530641 appears to have extremely faint detections in the z band. This seems fishy, let's look at the observations:"
   ]
  },
  {
   "cell_type": "code",
   "execution_count": null,
   "id": "501eec51-09a2-46f3-930d-80093014a24b",
   "metadata": {},
   "outputs": [],
   "source": [
    "# # Inspect all observations in full\n",
    "# df = df_obs[df_obs[\"ssObjectId\"] == ssobjid]\n",
    "# # with pd.option_context('display.max_rows', None, 'display.max_columns', None):\n",
    "# #     display(df)\n",
    "# df"
   ]
  },
  {
   "cell_type": "markdown",
   "id": "31b92fee-6304-4c59-a8d1-163b5e8976ba",
   "metadata": {},
   "source": [
    "The faint detections have a number of nan values, which appear to be caused by an attempted dipole fit (`dipoleFitAttempted == True`)\n",
    "See also ssObjectId for another example 21163611677341266.\n",
    "\n",
    "Furthermore some objects (e.g. ssObjectId = 23133931615302707) still have faint measurements, and these have nan values for trailing measurements (`shape_flag == True`).\n",
    "NB not all observations with `shape_flag == True` appear to be outlying."
   ]
  },
  {
   "cell_type": "code",
   "execution_count": null,
   "id": "d3977646-3c93-45c8-ab35-6435ad96b3db",
   "metadata": {},
   "outputs": [],
   "source": [
    "# dipoleFitAttempted==True example objects\n",
    "# ssobjid = 21163611662530641\n",
    "# ssobjid = 21163611677341266\n",
    "\n",
    "# shape_flag==True example object\n",
    "ssobjid = 23133931615302707"
   ]
  },
  {
   "cell_type": "code",
   "execution_count": null,
   "id": "50148197-87b2-4873-891b-783e8d4a434a",
   "metadata": {},
   "outputs": [],
   "source": [
    "# # Inspect all observations in full\n",
    "# df = df_obs[df_obs[\"ssObjectId\"] == ssobjid]\n",
    "# # with pd.option_context('display.max_rows', None, 'display.max_columns', None):\n",
    "# #     display(df)\n",
    "# df"
   ]
  },
  {
   "cell_type": "code",
   "execution_count": null,
   "id": "11d44794-9f5b-4744-9b58-e0523ecbe9ae",
   "metadata": {},
   "outputs": [],
   "source": [
    "# Plot the phase curve\n",
    "mpc_des = df_obj[df_obj[\"ssObjectId\"]==ssobjid].iloc[0][\"mpcDesignation\"]\n",
    "print(ssobjid,mpc_des)\n",
    "\n",
    "x_plot = \"phaseAngle\"\n",
    "y_plot = \"red_apABmag\"\n",
    "df_plot = df_obs[df_obs[\"ssObjectId\"] == ssobjid].sort_values(x_plot)\n",
    "\n",
    "fig = plt.figure()\n",
    "gs = gridspec.GridSpec(1, 1)\n",
    "ax1 = plt.subplot(gs[0,0])\n",
    "\n",
    "for i,filt in enumerate(np.unique(df_plot[\"band\"])):\n",
    "    _df_plot = df_plot[df_plot[\"band\"]==filt]\n",
    "    print(filt,len(_df_plot))\n",
    "    ax1.scatter(_df_plot[x_plot],_df_plot[y_plot],\n",
    "                edgecolor = \"C{}\".format(i),\n",
    "                facecolor = \"none\",\n",
    "                label = filt)\n",
    "    ax1.plot(_df_plot[x_plot],_df_plot[y_plot],\n",
    "             c = \"C{}\".format(i),)\n",
    "\n",
    "ax1.legend()\n",
    "ax1.set_xlabel(x_plot)\n",
    "ax1.set_ylabel(y_plot)\n",
    "ax1.invert_yaxis()\n",
    "\n",
    "plt.title(\"{}\\n{}\".format(ssobjid,mpc_des))\n",
    "\n",
    "plt.show()\n"
   ]
  },
  {
   "cell_type": "code",
   "execution_count": null,
   "id": "5f209b88-748b-4902-b546-0c05f72dfc32",
   "metadata": {},
   "outputs": [],
   "source": [
    "df_obs[~(df_obs[\"dipoleFitAttempted\"])].dropna(subset = [\"red_apABmag\"])"
   ]
  },
  {
   "cell_type": "markdown",
   "id": "65edd63b-fbeb-48f4-96c3-c2ad025d6a9e",
   "metadata": {
    "execution": {
     "iopub.execute_input": "2025-07-01T11:42:28.666666Z",
     "iopub.status.busy": "2025-07-01T11:42:28.666138Z",
     "iopub.status.idle": "2025-07-01T11:42:28.672104Z",
     "shell.execute_reply": "2025-07-01T11:42:28.671470Z",
     "shell.execute_reply.started": "2025-07-01T11:42:28.666644Z"
    }
   },
   "source": [
    "# Group by ssObjectId and band\n",
    "These summary stats allow us to assess changes in brightness in each band for each object.\n",
    "Significant changes in a single band could indicate a rotational amplitude (or weird measurements).\n",
    "Changes between mean brightness in different bands for a given object indicate colours."
   ]
  },
  {
   "cell_type": "code",
   "execution_count": null,
   "id": "23280c04-11cb-4b4a-8d86-d655c06ba274",
   "metadata": {},
   "outputs": [],
   "source": [
    "# We want to exclude unusual photometry from our summary statistics so we define a mask\n",
    "all_obs_mask = ~((df_obs[\"dipoleFitAttempted\"]) | (df_obs[\"shape_flag\"]))\n",
    "\n",
    "# drop anything with a flag for dipole or shape\n",
    "df_obs[~all_obs_mask][[\"shape_flag\",\"dipoleFitAttempted\"]]"
   ]
  },
  {
   "cell_type": "code",
   "execution_count": null,
   "id": "103d2ad5-f95b-4e64-93df-0c11f12940de",
   "metadata": {},
   "outputs": [],
   "source": [
    "# generate the summary statistics, by object and band, and excluding possible weird photometry\n",
    "gb_obs_band = df_obs[all_obs_mask].dropna(subset = [\"red_apABmag\",\"red_psfABmag\",\"red_trailABmag\"]).groupby([\"ssObjectId\",\"band\"])\n",
    "\n",
    "df_ptp_band = gb_obs_band[['red_apABmag',\"red_psfABmag\",\"red_trailABmag\",\"phaseAngle\"]].agg(np.ptp).reset_index()\n",
    "df_ptp_band = df_ptp_band.rename({'red_apABmag':\"range_red_apABmag\",\n",
    "                                  'red_psfABmag':\"range_red_psfABmag\",\n",
    "                                  'red_trailABmag':\"range_red_trailABmag\",\n",
    "                        \"phaseAngle\":\"range_phaseAngle\"}, axis = 1)\n",
    "\n",
    "df_min_band = gb_obs_band[[\"red_apABmag\",\"red_psfABmag\",\"red_trailABmag\",\"phaseAngle\"]].min().reset_index()\n",
    "df_min_band = df_min_band.rename({'red_apABmag':\"min_red_apABmag\",\n",
    "                                  'red_psfABmag':\"min_red_psfABmag\",\n",
    "                                  'red_trailABmag':\"min_red_trailABmag\",\n",
    "                        \"phaseAngle\":\"min_phaseAngle\"}, axis = 1)\n",
    "\n",
    "df_max_band = gb_obs_band[[\"red_apABmag\",\"red_psfABmag\",\"red_trailABmag\",\"phaseAngle\"]].min().reset_index()\n",
    "df_max_band = df_max_band.rename({'red_apABmag':\"max_red_apABmag\",\n",
    "                                  'red_psfABmag':\"max_red_psfABmag\",\n",
    "                                  'red_trailABmag':\"max_red_trailABmag\",\n",
    "                        \"phaseAngle\":\"max_phaseAngle\"}, axis = 1)\n",
    "\n",
    "df_mean_band = gb_obs_band[[\"red_apABmag\",\"red_psfABmag\",\"red_trailABmag\",\"phaseAngle\"]].mean().reset_index()\n",
    "df_mean_band = df_mean_band.rename({'red_apABmag':\"mean_red_apABmag\",\n",
    "                                    'red_psfABmag':\"mean_red_psfABmag\",\n",
    "                                    'red_trailABmag':\"mean_red_trailABmag\",\n",
    "                        \"phaseAngle\":\"mean_phaseAngle\"}, axis = 1)\n",
    "\n",
    "df_mag_band = df_ptp_band.copy()\n",
    "df_mag_band = df_mag_band.merge(df_min_band, on = [\"ssObjectId\",\"band\"])\n",
    "df_mag_band = df_mag_band.merge(df_max_band, on = [\"ssObjectId\",\"band\"])\n",
    "df_mag_band = df_mag_band.merge(df_mean_band, on = [\"ssObjectId\",\"band\"])\n",
    "# df_mag_band = df_mag_band.merge(df_obj, on = \"ssObjectId\")"
   ]
  },
  {
   "cell_type": "markdown",
   "id": "c6ee740a-74f4-45f8-9597-861874c72357",
   "metadata": {},
   "source": [
    "# Inspect the object with the most observations"
   ]
  },
  {
   "cell_type": "code",
   "execution_count": null,
   "id": "f3cc21de-4cd8-4729-ab9e-cd442ff6e1d8",
   "metadata": {},
   "outputs": [],
   "source": [
    "# df_obj.iloc[np.argmax(df_obj[\"numObs\"])]"
   ]
  },
  {
   "cell_type": "code",
   "execution_count": null,
   "id": "be4b7599-2c5e-402c-ba0d-16ff37e91736",
   "metadata": {},
   "outputs": [],
   "source": [
    "ssobjid = df_obj.iloc[np.argmax(df_obj[\"numObs\"])][\"ssObjectId\"] # ssObjectId with the most observations"
   ]
  },
  {
   "cell_type": "code",
   "execution_count": null,
   "id": "8f708877-ff88-4c2a-9533-cc5cc37ab402",
   "metadata": {
    "scrolled": true
   },
   "outputs": [],
   "source": [
    "# df = df_obs[(all_obs_mask) & (df_obs[\"ssObjectId\"] == ssobjid)]\n",
    "# # with pd.option_context('display.max_rows', None, 'display.max_columns', None):  # more options can be specified also\n",
    "# #     display(df)\n",
    "# df"
   ]
  },
  {
   "cell_type": "code",
   "execution_count": null,
   "id": "63d592d1-8257-4773-9a5a-7c6bb725f6fa",
   "metadata": {},
   "outputs": [],
   "source": [
    "# df_obs[(~all_obs_mask) & (df_obs[\"ssObjectId\"] == ssobjid)]"
   ]
  },
  {
   "cell_type": "code",
   "execution_count": null,
   "id": "20067e8c-ba2d-4bc8-9dc8-10dafc095caf",
   "metadata": {},
   "outputs": [],
   "source": [
    "# plot the phase curve and indicate observations that we have excluded\n",
    "mpc_des = df_obj[df_obj[\"ssObjectId\"]==ssobjid].iloc[0][\"mpcDesignation\"]\n",
    "x_plot = \"phaseAngle\"\n",
    "y_plot = \"red_apABmag\"\n",
    "df_plot = df_obs[all_obs_mask & (df_obs[\"ssObjectId\"] == ssobjid)].sort_values(x_plot)\n",
    "df_plot2 = df_obs[(~all_obs_mask) & (df_obs[\"ssObjectId\"] == ssobjid)].sort_values(x_plot)\n",
    "\n",
    "fig = plt.figure()\n",
    "gs = gridspec.GridSpec(1, 1)\n",
    "ax1 = plt.subplot(gs[0,0])\n",
    "\n",
    "            \n",
    "mlist = [\"o\",\"s\",\"*\"]\n",
    "slist = [50,75,100]\n",
    "for i,filt in enumerate(np.unique(df_plot[\"band\"])):\n",
    "    _df_plot = df_plot[df_plot[\"band\"]==filt]\n",
    "    print(filt,len(_df_plot))\n",
    "    ax1.scatter(_df_plot[x_plot],_df_plot[y_plot],\n",
    "                edgecolor = \"C{}\".format(i),\n",
    "                facecolor = \"none\",\n",
    "                # marker = mlist[i],\n",
    "                # s = slist[i],\n",
    "                label = filt)\n",
    "    ax1.plot(_df_plot[x_plot],_df_plot[y_plot],\n",
    "             c = \"C{}\".format(i),)\n",
    "\n",
    "ax1.scatter(df_plot2[x_plot],df_plot2[y_plot],\n",
    "            s = 100,\n",
    "            marker = \"x\", c = \"k\", label = \"cut\", zorder = 5)\n",
    "\n",
    "ax1.legend()\n",
    "ax1.set_xlabel(x_plot)\n",
    "ax1.set_ylabel(y_plot)\n",
    "ax1.invert_yaxis()\n",
    "\n",
    "plt.title(\"{}\\n{}\".format(ssobjid,mpc_des))\n",
    "plt.savefig(\"{}_{}\".format(ssobjid,\"_\".join(mpc_des.split(\" \"))))\n",
    "\n",
    "plt.show()\n"
   ]
  },
  {
   "cell_type": "markdown",
   "id": "d8bfc3d7-eff4-4a5b-8f1e-9c047b385744",
   "metadata": {
    "execution": {
     "iopub.execute_input": "2025-07-01T15:37:44.168469Z",
     "iopub.status.busy": "2025-07-01T15:37:44.168261Z",
     "iopub.status.idle": "2025-07-01T15:37:44.171245Z",
     "shell.execute_reply": "2025-07-01T15:37:44.170710Z",
     "shell.execute_reply.started": "2025-07-01T15:37:44.168451Z"
    }
   },
   "source": [
    "# What is the relation between the different flux/mag measurements?\n",
    "DiaSource gives a number of flux measurements, in particular:\n",
    "- aperture\n",
    "- psf\n",
    "- trailed"
   ]
  },
  {
   "cell_type": "code",
   "execution_count": null,
   "id": "ceec64fb-378d-4572-af33-de65a3980fa4",
   "metadata": {},
   "outputs": [],
   "source": [
    "# Plot the phase curve in multiple flux methods for a given object\n",
    "mpc_des = df_obj[df_obj[\"ssObjectId\"]==ssobjid].iloc[0][\"mpcDesignation\"]\n",
    "print(ssobjid,mpc_des)\n",
    "\n",
    "x_plot = \"phaseAngle\"\n",
    "df_plot = df_obs[df_obs[\"ssObjectId\"] == ssobjid].sort_values(x_plot)\n",
    "\n",
    "fig = plt.figure()\n",
    "gs = gridspec.GridSpec(1, 1)\n",
    "ax1 = plt.subplot(gs[0,0])\n",
    "\n",
    "for y_plot,m,ls in zip([\"red_apABmag\",\"red_psfABmag\",\"red_trailABmag\"],[\"o\",\"s\",\"^\"],[\"-\",\":\",\"--\"]):\n",
    "    for i,filt in enumerate(np.unique(df_plot[\"band\"])):\n",
    "        _df_plot = df_plot[df_plot[\"band\"]==filt]\n",
    "        ax1.scatter(_df_plot[x_plot],_df_plot[y_plot],\n",
    "                    edgecolor = \"C{}\".format(i),\n",
    "                    facecolor = \"none\",\n",
    "                    marker = m,\n",
    "                    label = \"{} {}\".format(y_plot,filt))\n",
    "        ax1.plot(_df_plot[x_plot],_df_plot[y_plot],\n",
    "                 ls = ls,\n",
    "                 c = \"C{}\".format(i),)\n",
    "\n",
    "ax1.legend()\n",
    "ax1.set_xlabel(x_plot)\n",
    "ax1.set_ylabel(\"mag\")\n",
    "ax1.invert_yaxis()\n",
    "\n",
    "plt.title(\"{}\\n{}\".format(ssobjid,mpc_des))\n",
    "\n",
    "plt.show()\n"
   ]
  },
  {
   "cell_type": "code",
   "execution_count": null,
   "id": "5d1e1b3c-06fc-4754-833d-7e22d9257ff4",
   "metadata": {
    "scrolled": true
   },
   "outputs": [],
   "source": [
    "# check the relation between different flux methods\n",
    "x_plot = \"red_psfABmag\"\n",
    "y_plot = \"red_apABmag\"\n",
    "y_plot2 = \"red_trailABmag\"\n",
    "df_plot = df_obs\n",
    "\n",
    "for i,filt in enumerate(np.unique(df_plot[\"band\"])):\n",
    "    _df_plot = df_plot[df_plot[\"band\"]==filt]\n",
    "    print(filt,len(_df_plot))\n",
    "\n",
    "    fig = plt.figure()\n",
    "    gs = gridspec.GridSpec(1, 2)\n",
    "    ax1 = plt.subplot(gs[0,0])\n",
    "    ax2 = plt.subplot(gs[0,1])\n",
    "\n",
    "    ax1.scatter(_df_plot[x_plot],_df_plot[y_plot],\n",
    "                c = \"C{}\".format(i),)\n",
    "\n",
    "    ax1.plot([np.amin(_df_plot[x_plot]),np.amax(_df_plot[x_plot])],\n",
    "              [np.amin(_df_plot[x_plot]),np.amax(_df_plot[x_plot])],\n",
    "                                               c = \"k\")\n",
    "\n",
    "    ax2.scatter(_df_plot[x_plot],_df_plot[y_plot2],\n",
    "                c = \"C{}\".format(i),)\n",
    "\n",
    "    ax2.plot([np.amin(_df_plot[x_plot]),np.amax(_df_plot[x_plot])],\n",
    "              [np.amin(_df_plot[x_plot]),np.amax(_df_plot[x_plot])],\n",
    "                                               c = \"k\")\n",
    "\n",
    "    fig.suptitle(filt)\n",
    "    ax1.set_xlabel(x_plot)\n",
    "    ax1.set_ylabel(y_plot)\n",
    "    ax2.set_xlabel(x_plot)\n",
    "    ax2.set_ylabel(y_plot2)\n",
    "\n",
    "    plt.tight_layout()\n",
    "    plt.show()\n"
   ]
  },
  {
   "cell_type": "code",
   "execution_count": null,
   "id": "9fe5bb8d-ebc1-4a46-9a89-e6560543ac10",
   "metadata": {},
   "outputs": [],
   "source": [
    "# What method should we use to assess changes in brightness of an object?\n",
    "# assess the relation between the range statistics of the reduced magnitudes\n",
    "x_plot = \"range_red_psfABmag\"\n",
    "df_plot = df_mag_band\n",
    "\n",
    "for y_plot in [\"range_red_apABmag\",\"range_red_trailABmag\"]:\n",
    "               \n",
    "    fig = plt.figure()\n",
    "    gs = gridspec.GridSpec(1, 1)\n",
    "    ax1 = plt.subplot(gs[0,0])\n",
    "    \n",
    "    ax1.scatter(df_plot[x_plot],df_plot[y_plot])\n",
    "        \n",
    "\n",
    "    ax1.plot([np.amin(df_plot[x_plot]),np.amax(df_plot[x_plot])],\n",
    "              [np.amin(df_plot[x_plot]),np.amax(df_plot[x_plot])],\n",
    "                                               c = \"k\")\n",
    "    \n",
    "    ax1.set_xlabel(x_plot)\n",
    "    ax1.set_ylabel(y_plot)\n",
    "    \n",
    "    plt.show()"
   ]
  },
  {
   "cell_type": "markdown",
   "id": "b0062a3d-d499-414e-bb3f-6d1a3a25ed19",
   "metadata": {},
   "source": [
    "Aperture magnitudes appear to overestimate the range statistic, use psf or trailed instead"
   ]
  },
  {
   "cell_type": "code",
   "execution_count": null,
   "id": "147dc9ab-96a4-428e-b87f-c617b63d8a56",
   "metadata": {},
   "outputs": [],
   "source": [
    "df_mag_band.sort_values(\"range_red_psfABmag\")"
   ]
  },
  {
   "cell_type": "code",
   "execution_count": null,
   "id": "55ef4395-54e4-4723-8a89-7aed0482e5b6",
   "metadata": {},
   "outputs": [],
   "source": [
    "ssobjid = df_mag_band.iloc[np.argmax(df_mag_band[\"range_red_psfABmag\"])][\"ssObjectId\"]"
   ]
  },
  {
   "cell_type": "code",
   "execution_count": null,
   "id": "bd9b0e54-85f5-4240-9dcd-df6381fdccaf",
   "metadata": {},
   "outputs": [],
   "source": [
    "# plot the phase curve and indicate observations that we have excluded\n",
    "mpc_des = df_obj[df_obj[\"ssObjectId\"]==ssobjid].iloc[0][\"mpcDesignation\"]\n",
    "x_plot = \"phaseAngle\"\n",
    "y_plot = \"red_apABmag\"\n",
    "df_plot = df_obs[all_obs_mask & (df_obs[\"ssObjectId\"] == ssobjid)].sort_values(x_plot)\n",
    "df_plot2 = df_obs[(~all_obs_mask) & (df_obs[\"ssObjectId\"] == ssobjid)].sort_values(x_plot)\n",
    "\n",
    "fig = plt.figure()\n",
    "gs = gridspec.GridSpec(1, 1)\n",
    "ax1 = plt.subplot(gs[0,0])\n",
    "\n",
    "            \n",
    "mlist = [\"o\",\"s\",\"*\"]\n",
    "slist = [50,75,100]\n",
    "for i,filt in enumerate(np.unique(df_plot[\"band\"])):\n",
    "    _df_plot = df_plot[df_plot[\"band\"]==filt]\n",
    "    print(filt,len(_df_plot))\n",
    "    ax1.scatter(_df_plot[x_plot],_df_plot[y_plot],\n",
    "                edgecolor = \"C{}\".format(i),\n",
    "                facecolor = \"none\",\n",
    "                # marker = mlist[i],\n",
    "                # s = slist[i],\n",
    "                label = filt)\n",
    "    ax1.plot(_df_plot[x_plot],_df_plot[y_plot],\n",
    "             c = \"C{}\".format(i),)\n",
    "\n",
    "ax1.scatter(df_plot2[x_plot],df_plot2[y_plot],\n",
    "            s = 100,\n",
    "            marker = \"x\", c = \"k\", label = \"cut\", zorder = 5)\n",
    "\n",
    "ax1.legend()\n",
    "ax1.set_xlabel(x_plot)\n",
    "ax1.set_ylabel(y_plot)\n",
    "\n",
    "plt.title(\"{}\\n{}\".format(ssobjid,mpc_des))\n",
    "\n",
    "plt.show()\n"
   ]
  },
  {
   "cell_type": "code",
   "execution_count": null,
   "id": "1fb76274-7103-4d1a-a38a-d7158fdc9d48",
   "metadata": {},
   "outputs": [],
   "source": []
  }
 ],
 "metadata": {
  "kernelspec": {
   "display_name": "LSST",
   "language": "python",
   "name": "lsst"
  },
  "language_info": {
   "codemirror_mode": {
    "name": "ipython",
    "version": 3
   },
   "file_extension": ".py",
   "mimetype": "text/x-python",
   "name": "python",
   "nbconvert_exporter": "python",
   "pygments_lexer": "ipython3",
   "version": "3.12.11"
  }
 },
 "nbformat": 4,
 "nbformat_minor": 5
}
